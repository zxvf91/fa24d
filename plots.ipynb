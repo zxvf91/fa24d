{
 "cells": [
  {
   "cell_type": "code",
   "execution_count": null,
   "id": "e4d44e3a-c92d-4a9b-a5be-be1114dbcd7d",
   "metadata": {},
   "outputs": [],
   "source": [
    "import glob\n",
    "import sys\n",
    "sys.path.append('.')\n",
    "\n",
    "import geopandas as gpd\n",
    "import matplotlib.pyplot as plt\n",
    "import numpy as np\n",
    "import pandas as pd\n",
    "import seaborn as sns\n",
    "\n",
    "import conversions as c\n",
    "\n",
    "plt.style.use('./style.mplstyle')"
   ]
  },
  {
   "cell_type": "markdown",
   "id": "08f4c81c-5e50-420e-b3f2-75bb170ac6e7",
   "metadata": {},
   "source": [
    "Template notebook to give examples of how to preprocess data, product plots, etc.\n",
    "\n",
    "Example dataset used here is from NJ Motorsports park"
   ]
  },
  {
   "cell_type": "markdown",
   "id": "c0896a5a-f019-4aff-a868-ec61fac8e8a3",
   "metadata": {},
   "source": [
    "# Load data"
   ]
  },
  {
   "cell_type": "code",
   "execution_count": null,
   "id": "fa21faba-874e-4f7f-ae3a-c681285a731d",
   "metadata": {},
   "outputs": [],
   "source": [
    "# Downsampling the data significantly speeds up plotting times,\n",
    "# and improves appearance of the plots, but is not strictly critical for analysis\n",
    "DOWNSAMPLE_FACTOR = 3 # keep every Nth row\n",
    "DOWNSAMPLE = True\n",
    "\n",
    "dfs = {}\n",
    "for idx, file in enumerate(glob.glob('./data/session*.csv')):\n",
    "    dfs[idx] = pd.read_csv(file)\n",
    "    dfs[idx] = dfs[idx].dropna(subset=['lap_number'])\n",
    "    if DOWNSAMPLE:\n",
    "        dfs[idx] = dfs[idx][::DOWNSAMPLE_FACTOR]\n",
    "    print(file)"
   ]
  },
  {
   "cell_type": "code",
   "execution_count": null,
   "id": "4b5f02b9-61cd-46e9-9d71-3de6eda8901c",
   "metadata": {
    "tags": []
   },
   "outputs": [],
   "source": [
    "# convert kpa to psi, C to F\n",
    "for i in dfs:\n",
    "    dfs[i]['engine_oil_pressure_psi'] = dfs[i].apply(lambda x: c.kpa_to_psi(x['engine_oil_pressure']), axis=1)\n",
    "    dfs[i]['fuel_pressure_psi'] = dfs[i].apply(lambda x: c.kpa_to_psi(x['fuel_pressure']), axis=1)\n",
    "    dfs[i]['engine_oil_temp_f'] = dfs[i].apply(lambda x: c.c_to_f(x['engine_oil_temp']), axis=1)"
   ]
  },
  {
   "cell_type": "markdown",
   "id": "de1f9538-00f6-4765-aaba-52f95c5c9ec7",
   "metadata": {},
   "source": [
    "# Basic line plots"
   ]
  },
  {
   "cell_type": "markdown",
   "id": "3966c14e-bd59-4458-8169-f1ad197c93b3",
   "metadata": {},
   "source": [
    "Basic temporal plots for visualization."
   ]
  },
  {
   "cell_type": "code",
   "execution_count": null,
   "id": "3196e448-b9c7-47e7-a06a-ae81ea2fc92e",
   "metadata": {},
   "outputs": [],
   "source": [
    "x = 'elapsed_time'\n",
    "y1 = 'engine_oil_pressure_psi'\n",
    "y2 = 'lateral_acc'\n",
    "\n",
    "nrows = len(dfs)\n",
    "fig, ax = plt.subplots(nrows, 1, figsize=(15,20))\n",
    "axs = ax.flatten()\n",
    "for i in dfs:\n",
    "    a = axs[i]\n",
    "    # create a dual axis plot if desired\n",
    "    a2 = a.twinx()\n",
    "    sns.lineplot(ax = a, x = x, y = y1, data = dfs[i], lw = 1, color='darkorange', label = y1, legend=False)\n",
    "    sns.lineplot(ax = a2, x = x, y = y2, data = dfs[i], lw = 1, color='navy', label = y2, legend=False)\n",
    "    a.set_title(f'session {i}', fontsize=14)\n",
    "    a.set_ylim([0,100])\n",
    "    a.legend(loc=(0.7,0.9))\n",
    "    a2.legend(loc=(0.7,0.8))\n",
    "fig.subplots_adjust(hspace=0.5)\n",
    "fig.savefig(f'./figures/session-time_x_op-latacc.png', bbox_inches='tight', facecolor='w', dpi=150)"
   ]
  },
  {
   "cell_type": "markdown",
   "id": "efb6ec55-e7d6-4588-a70e-171c425f7aa6",
   "metadata": {},
   "source": [
    "# Correlations with rpm, oil temp"
   ]
  },
  {
   "cell_type": "markdown",
   "id": "b0b8767e-45e9-4cc8-8393-edaad9cfe442",
   "metadata": {},
   "source": [
    "It is well established when oil pressure drops occur.\n",
    "Some readings display right hand turns as negative Gs while others appear as positive Gs so it is always good to check.\n",
    "\n",
    "Since oil pressure is also dependent on engine speed, it is good to factor in engine speed when examining low oil pressures"
   ]
  },
  {
   "cell_type": "code",
   "execution_count": null,
   "id": "37cdb54a-b638-49a4-9737-2aad490ddbf0",
   "metadata": {
    "tags": []
   },
   "outputs": [],
   "source": [
    "session = 3\n",
    "\n",
    "test_df = dfs[session]#.query(\"rpm>5000\")"
   ]
  },
  {
   "cell_type": "code",
   "execution_count": null,
   "id": "7d9d2ed2-bae6-48dc-98c2-0e7e6e24c8a1",
   "metadata": {
    "tags": []
   },
   "outputs": [],
   "source": [
    "fig, ax = plt.subplots(figsize=(7,5))\n",
    "sns.scatterplot(ax = ax, x = 'lateral_acc', y = 'engine_oil_pressure_psi', hue='rpm', data = test_df,\n",
    "                palette='rocket')\n",
    "ax.set_xlim([-6,6])\n",
    "ax.set_title('Lateral Accel vs Oil Pressure')\n",
    "fig.savefig(f'./figures/session_{session}_lat-acc_vs_oil-pressure.png', bbox_inches='tight', facecolor='w')\n",
    "pass"
   ]
  },
  {
   "cell_type": "code",
   "execution_count": null,
   "id": "7e2fe5d2-27f5-4a35-a5f3-b8b76f50ee1f",
   "metadata": {
    "tags": []
   },
   "outputs": [],
   "source": [
    "fig, ax = plt.subplots(figsize=(7,5))\n",
    "sns.scatterplot(ax = ax, x = 'engine_oil_temp_f', y = 'engine_oil_pressure_psi', hue='rpm', data = test_df,\n",
    "                palette='rocket')\n",
    "ax.set_title('Oil Temp vs Oil Pressure')\n",
    "fig.savefig(f'./figures/session_{session}_oil-temp_vs_oil-pressure.png', bbox_inches='tight', facecolor='w')\n",
    "pass"
   ]
  },
  {
   "cell_type": "markdown",
   "id": "22403dca-c15c-49aa-a02b-249a738d134d",
   "metadata": {
    "tags": []
   },
   "source": [
    "# Plotting coordinates"
   ]
  },
  {
   "cell_type": "code",
   "execution_count": null,
   "id": "d6762276-fbc6-4019-90db-c721188ac3aa",
   "metadata": {},
   "outputs": [],
   "source": [
    "# convert to geodataframes\n",
    "gdfs = {}\n",
    "for i in dfs:\n",
    "    gdfs[i] = gpd.GeoDataFrame(data = dfs[i],\n",
    "                               geometry = gpd.points_from_xy(dfs[i]['longitude'], dfs[i]['latitude']))"
   ]
  },
  {
   "cell_type": "markdown",
   "id": "cb5c3dc3-0bb2-41e7-b2f5-ab9dc59eaca3",
   "metadata": {
    "tags": []
   },
   "source": [
    "## use fastest lap"
   ]
  },
  {
   "cell_type": "code",
   "execution_count": null,
   "id": "7cfecaff-31f4-4c94-ab7c-ea63b1f911c5",
   "metadata": {
    "tags": []
   },
   "outputs": [],
   "source": [
    "def lap_times(df: pd.DataFrame,\n",
    "              lap_num_col: str = 'lap_number',\n",
    "              time_col: str = 'elapsed_time') -> dict:\n",
    "\n",
    "    return (df.groupby(lap_num_col)[time_col].max() - df.groupby(lap_num_col)[time_col].min()).to_dict()"
   ]
  },
  {
   "cell_type": "code",
   "execution_count": null,
   "id": "4427bf39-283f-402a-be57-c0f1dd353962",
   "metadata": {
    "tags": []
   },
   "outputs": [],
   "source": [
    "fastest_lap = {}\n",
    "for i in gdfs:\n",
    "    lt = lap_times(gdfs[i], lap_num_col='lap_number', time_col='elapsed_time')\n",
    "    fl = min(lt, key=lt.get)\n",
    "    text = f\"Session {i}, fastest lap: {fl} time: {lt[fl]:.3f}\"\n",
    "    fastest_lap[i] = fl\n",
    "    print(text)"
   ]
  },
  {
   "cell_type": "code",
   "execution_count": null,
   "id": "3c2e4139-4d5d-41a0-8c70-8aa51b2add68",
   "metadata": {
    "tags": []
   },
   "outputs": [],
   "source": [
    "col = 'engine_oil_pressure_psi'\n",
    "\n",
    "fig, ax = plt.subplots(2,3, figsize=(15,10))\n",
    "axs = ax.flatten()\n",
    "for i in gdfs:\n",
    "    a = axs[i]\n",
    "    fl = fastest_lap[i]\n",
    "    data = gdfs[i].loc[gdfs[i]['lap_number'] == fl]\n",
    "    data.plot(ax = a, column = col, legend=True, vmin=40, vmax=70)\n",
    "    a.set_title(f'Session {i}')\n",
    "    a.axis('off')\n",
    "for j in range(i+1, 2*3):\n",
    "    fig.delaxes(axs[j])\n",
    "fig.subplots_adjust(hspace=0.3)\n",
    "fig.savefig(f'./figures/gps_{col}.png', bbox_inches='tight', facecolor='w', dpi=150)"
   ]
  }
 ],
 "metadata": {
  "kernelspec": {
   "display_name": "dev",
   "language": "python",
   "name": "dev"
  },
  "language_info": {
   "codemirror_mode": {
    "name": "ipython",
    "version": 3
   },
   "file_extension": ".py",
   "mimetype": "text/x-python",
   "name": "python",
   "nbconvert_exporter": "python",
   "pygments_lexer": "ipython3",
   "version": "3.8.9"
  }
 },
 "nbformat": 4,
 "nbformat_minor": 5
}
